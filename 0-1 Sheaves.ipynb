{
 "cells": [
  {
   "cell_type": "markdown",
   "metadata": {},
   "source": [
    "# 0-1 Sheaves\n",
    "\n",
    "This notebook generates random 0-1 sheaves on an $n$-simplex. It calls functions from the notebooks `rref2` and `randomsheaves`."
   ]
  },
  {
   "cell_type": "code",
   "execution_count": 1,
   "metadata": {
    "collapsed": false
   },
   "outputs": [
    {
     "ename": "LoadError",
     "evalue": "UndefVarError: nullspace2 not defined",
     "output_type": "error",
     "traceback": [
      "UndefVarError: nullspace2 not defined",
      ""
     ]
    }
   ],
   "source": [
    "nullspace2([0 0 1])"
   ]
  }
 ],
 "metadata": {
  "kernelspec": {
   "display_name": "Julia 0.5.0",
   "language": "julia",
   "name": "julia-0.5"
  },
  "language_info": {
   "file_extension": ".jl",
   "mimetype": "application/julia",
   "name": "julia",
   "version": "0.5.0"
  }
 },
 "nbformat": 4,
 "nbformat_minor": 1
}
