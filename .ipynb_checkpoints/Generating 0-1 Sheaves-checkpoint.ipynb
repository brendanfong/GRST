{
 "cells": [
  {
   "cell_type": "markdown",
   "metadata": {},
   "source": [
    "# Generating 0-1 Sheaves\n",
    "This notebook generates random 0-1 sheaves on an $n$-simplex.\n",
    "\n",
    "---"
   ]
  },
  {
   "cell_type": "markdown",
   "metadata": {},
   "source": [
    "First we choose $n$, the dimension of our simplex:"
   ]
  },
  {
   "cell_type": "code",
   "execution_count": 1,
   "metadata": {
    "collapsed": false
   },
   "outputs": [
    {
     "data": {
      "text/plain": [
       "3"
      ]
     },
     "execution_count": 1,
     "metadata": {},
     "output_type": "execute_result"
    }
   ],
   "source": [
    "dim = 3"
   ]
  },
  {
   "cell_type": "markdown",
   "metadata": {},
   "source": [
    "---\n",
    "## Packages and macros\n",
    "\n",
    "Next, we call the necessary packages. This one lets us deal with subsets."
   ]
  },
  {
   "cell_type": "code",
   "execution_count": 2,
   "metadata": {
    "collapsed": true
   },
   "outputs": [],
   "source": [
    "using Iterators"
   ]
  },
  {
   "cell_type": "markdown",
   "metadata": {},
   "source": [
    "`issubset` takes two sets and checks whether the first is a subset of the second. We curry this function so we can apply it to a list"
   ]
  },
  {
   "cell_type": "code",
   "execution_count": 3,
   "metadata": {
    "collapsed": false
   },
   "outputs": [
    {
     "data": {
      "text/plain": [
       "issubsetcurry (generic function with 1 method)"
      ]
     },
     "execution_count": 3,
     "metadata": {},
     "output_type": "execute_result"
    }
   ],
   "source": [
    "function issubsetcurry(x)\n",
    "    newfunction = function (y) return issubset(x,y) end\n",
    "    return newfunction\n",
    "end"
   ]
  },
  {
   "cell_type": "code",
   "execution_count": 4,
   "metadata": {
    "collapsed": false
   },
   "outputs": [
    {
     "data": {
      "text/plain": [
       "makebinary (generic function with 1 method)"
      ]
     },
     "execution_count": 4,
     "metadata": {},
     "output_type": "execute_result"
    }
   ],
   "source": [
    "function makebinary(x)\n",
    "    if x!=0 \n",
    "        y = 1\n",
    "    else \n",
    "        y = 0\n",
    "    end\n",
    "end"
   ]
  },
  {
   "cell_type": "markdown",
   "metadata": {},
   "source": [
    "Next, we generate the restriction maps from the $n-1$-dimensional cells to unique $n$-dimensional cell."
   ]
  },
  {
   "cell_type": "markdown",
   "metadata": {},
   "source": [
    "To generate each row of a boundary operator, we compute the kernel of a restriction of the boundary operator in the dimension above to a suitable subspace of the domain. This involves knocking out the right columns. Here is an operator that, given a dimension $k$, a matrix $D_k$ of attaching maps from dimension $k$ to $k+1$, and a $k-1$-dimensional cell $A$, returns a basis for maps from $A$ to the $k$-dimensional cells that satisfy the required commutativity condition. This basis is a basis for the restriction of "
   ]
  },
  {
   "cell_type": "markdown",
   "metadata": {},
   "source": [
    "This function gets the columns of the boundary operator that represent cofaces of the cell $A=$`x` "
   ]
  },
  {
   "cell_type": "code",
   "execution_count": 5,
   "metadata": {
    "collapsed": false,
    "scrolled": true
   },
   "outputs": [
    {
     "data": {
      "text/plain": [
       "extract1cofaces (generic function with 1 method)"
      ]
     },
     "execution_count": 5,
     "metadata": {},
     "output_type": "execute_result"
    }
   ],
   "source": [
    "function extract1cofaces(x)\n",
    "    return map(issubsetcurry(x),collect(subsets(collect(1:dim),length(x)+1)))\n",
    "end"
   ]
  },
  {
   "cell_type": "markdown",
   "metadata": {},
   "source": [
    "---\n",
    "## Main function"
   ]
  },
  {
   "cell_type": "code",
   "execution_count": 44,
   "metadata": {
    "collapsed": false
   },
   "outputs": [
    {
     "name": "stdout",
     "output_type": "stream",
     "text": [
      "Array{Int64,2}[\n",
      "[1 1 0; 0 0 0; 0 0 0],\n",
      "\n",
      "[0 1 1]]\n",
      "2\n",
      "1\n",
      "0\n"
     ]
    }
   ],
   "source": [
    "D = Array(Array{Int64,2},0)\n",
    "D_k = [0]\n",
    "for k = dim-1:-1:1\n",
    "    D_kplus1 = copy(D_k)\n",
    "    D_k = Array(Int64,binomial(dim,k+1),0)\n",
    "    for j in collect(subsets(collect(1:dim),k))\n",
    "        Aux = copy(D_kplus1[:,extract1cofaces(j)])\n",
    "        M = map(makebinary,nullspace(Aux))\n",
    "        V_j = vec(M*rand(0:1,1,size(M,2))')\n",
    "        for i in find(map(!,extract1cofaces(j)))\n",
    "            insert!(V_j,i,0)\n",
    "        end\n",
    "        D_k = [D_k V_j]\n",
    "    end\n",
    "    unshift!(D,D_k)\n",
    "end\n",
    "    println(D)\n",
    "\n",
    "println(size(nullspace(D[1]),2))\n",
    "for i = 1:dim-2\n",
    "    println(size(nullspace(D[i+1]),2)-rank(D[i]))\n",
    "end\n",
    "println(1-rank(D[dim-1]))"
   ]
  },
  {
   "cell_type": "code",
   "execution_count": 7,
   "metadata": {
    "collapsed": false
   },
   "outputs": [
    {
     "data": {
      "text/plain": [
       "1-element Array{Int64,1}:\n",
       " 0"
      ]
     },
     "execution_count": 7,
     "metadata": {},
     "output_type": "execute_result"
    }
   ],
   "source": [
    "D_k = [0] :: Array{Int64,1}"
   ]
  },
  {
   "cell_type": "code",
   "execution_count": 8,
   "metadata": {
    "collapsed": false
   },
   "outputs": [
    {
     "name": "stdout",
     "output_type": "stream",
     "text": [
      "2\n"
     ]
    }
   ],
   "source": [
    "println(size(nullspace(D[1]),2))\n",
    "for i = 1:dim-2\n",
    "    println(size(nullspace(D[i+1]),2)-rank(D[i]))\n",
    "end\n",
    "println(1-rank(D[dim-1]))"
   ]
  },
  {
   "cell_type": "code",
   "execution_count": 9,
   "metadata": {
    "collapsed": false
   },
   "outputs": [
    {
     "data": {
      "text/plain": [
       "2×1 Array{Float64,2}:\n",
       " -0.707107\n",
       "  0.707107"
      ]
     },
     "execution_count": 9,
     "metadata": {},
     "output_type": "execute_result"
    }
   ],
   "source": [
    "#for i = 1:dim\n",
    "nullspace([1 1])\n",
    "#size(nullspace(D[1]),1)\n",
    "#end\n",
    "\n",
    "    "
   ]
  },
  {
   "cell_type": "markdown",
   "metadata": {},
   "source": [
    "Note that I've made a leap of faith in how the nullspace function works."
   ]
  },
  {
   "cell_type": "markdown",
   "metadata": {},
   "source": [
    "---\n",
    "# Below this line is scratchpad"
   ]
  },
  {
   "cell_type": "code",
   "execution_count": 10,
   "metadata": {
    "collapsed": false
   },
   "outputs": [
    {
     "data": {
      "text/plain": [
       "1×3 Array{Int64,2}:\n",
       " 1  1  1"
      ]
     },
     "execution_count": 10,
     "metadata": {},
     "output_type": "execute_result"
    }
   ],
   "source": [
    "Dtop = rand(0:1,1,dim)\n"
   ]
  },
  {
   "cell_type": "code",
   "execution_count": 11,
   "metadata": {
    "collapsed": false
   },
   "outputs": [
    {
     "data": {
      "text/plain": [
       "3-element Array{Bool,1}:\n",
       "  true\n",
       "  true\n",
       " false"
      ]
     },
     "execution_count": 11,
     "metadata": {},
     "output_type": "execute_result"
    }
   ],
   "source": [
    "extract1cofaces([1])"
   ]
  },
  {
   "cell_type": "markdown",
   "metadata": {},
   "source": [
    "We label each cell with a binary number of length $n$. The top dimensional cell is the string $11\\dots1$ of $n$ $1$s, while the $n-1$ dimensional cells are the $n$ distinct strings containing $n-1$ $1$s and a single $0$. Note that the number of $1$s in the string is the dimension of the cell. We order the cells of each dimension in lexicographic order according to these labels."
   ]
  },
  {
   "cell_type": "code",
   "execution_count": 12,
   "metadata": {
    "collapsed": false
   },
   "outputs": [
    {
     "name": "stdout",
     "output_type": "stream",
     "text": [
      "[0"
     ]
    }
   ],
   "source": [
    "Dk = Array(Int64, 3,0)\n",
    "for j in collect(subsets(collect(1:dim),1))\n",
    "    Aux = copy(Dtop)\n",
    "        Aux[:,map(!,extract1cofaces(j))] = 0\n",
    "        M = map(makebinary,nullspace(Aux))\n",
    "        Vj = M*rand(0:1,1,size(M,2))'\n",
    "        Vj[map(!,extract1cofaces(j))] = 0\n",
    "        Dk = [Dk Vj]\n",
    "end\n",
    "println(Dk)"
   ]
  },
  {
   "cell_type": "code",
   "execution_count": 13,
   "metadata": {
    "collapsed": false
   },
   "outputs": [
    {
     "data": {
      "text/plain": [
       "4×1 Array{Float64,2}:\n",
       " -0.5\n",
       "  0.5\n",
       "  0.5\n",
       "  0.5"
      ]
     },
     "execution_count": 13,
     "metadata": {},
     "output_type": "execute_result"
    }
   ],
   "source": [
    "nullspace([1 1 0 0; 1 0 1 0; 1 0 0 1])"
   ]
  },
  {
   "cell_type": "markdown",
   "metadata": {},
   "source": [
    "Next, we zero out the columns of the boundary operator corresponding to $k$ cells that are not cofaces of $A$:"
   ]
  },
  {
   "cell_type": "code",
   "execution_count": 14,
   "metadata": {
    "collapsed": false
   },
   "outputs": [
    {
     "data": {
      "text/plain": [
       "0"
      ]
     },
     "execution_count": 14,
     "metadata": {},
     "output_type": "execute_result"
    }
   ],
   "source": [
    "Dzero = Dtop\n",
    "Dzero[:,map(!,extract1cofaces([2]))] = 0\n"
   ]
  },
  {
   "cell_type": "code",
   "execution_count": 15,
   "metadata": {
    "collapsed": false
   },
   "outputs": [
    {
     "name": "stdout",
     "output_type": "stream",
     "text": [
      "[1"
     ]
    },
    {
     "name": "stderr",
     "output_type": "stream",
     "text": [
      "WARNING: imported binding for zeros overwritten in module Main\n"
     ]
    }
   ],
   "source": [
    "zeros = find(map(!,extract1cofaces([3])))\n",
    "println(zeros)\n",
    "vect = [1, 2, 3, 4]\n",
    "\n",
    "for i in zeros\n",
    "    insert!(vect,i,0)\n",
    "end\n",
    "println(vect)"
   ]
  },
  {
   "cell_type": "markdown",
   "metadata": {},
   "source": [
    "We then find a basis for the nullspace of this restricted operator. The elements of this basis list the independent choices for sets of restriction maps that we may make nonzero."
   ]
  },
  {
   "cell_type": "code",
   "execution_count": 16,
   "metadata": {
    "collapsed": false
   },
   "outputs": [
    {
     "data": {
      "text/plain": [
       "3×2 Array{Int64,2}:\n",
       " 0  1\n",
       " 1  0\n",
       " 0  1"
      ]
     },
     "execution_count": 16,
     "metadata": {},
     "output_type": "execute_result"
    }
   ],
   "source": [
    "M = map(makebinary,nullspace(Dzero))"
   ]
  },
  {
   "cell_type": "markdown",
   "metadata": {},
   "source": [
    "Next, we randomly choose whether these sets of restriction maps should be 1 or 0, and so construct the $A$ column of the $k-1$ dimensional boundary operator. "
   ]
  },
  {
   "cell_type": "code",
   "execution_count": 17,
   "metadata": {
    "collapsed": false
   },
   "outputs": [
    {
     "data": {
      "text/plain": [
       "2"
      ]
     },
     "execution_count": 17,
     "metadata": {},
     "output_type": "execute_result"
    }
   ],
   "source": [
    "size(nullspace(M),1)"
   ]
  },
  {
   "cell_type": "code",
   "execution_count": 18,
   "metadata": {
    "collapsed": false
   },
   "outputs": [
    {
     "data": {
      "text/plain": [
       "3×1 Array{Int64,2}:\n",
       " 1\n",
       " 0\n",
       " 1"
      ]
     },
     "execution_count": 18,
     "metadata": {},
     "output_type": "execute_result"
    }
   ],
   "source": [
    "M*rand(0:1,1,size(nullspace(M),1))'"
   ]
  }
 ],
 "metadata": {
  "kernelspec": {
   "display_name": "Julia 0.5.0",
   "language": "julia",
   "name": "julia-0.5"
  },
  "language_info": {
   "file_extension": ".jl",
   "mimetype": "application/julia",
   "name": "julia",
   "version": "0.5.0"
  }
 },
 "nbformat": 4,
 "nbformat_minor": 1
}
