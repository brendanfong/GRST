{
 "cells": [
  {
   "cell_type": "code",
   "execution_count": null,
   "metadata": {
    "collapsed": true
   },
   "outputs": [],
   "source": [
    "function swapcols(X, i, j)\n",
    "     for k = 1:size(X,1)\n",
    "           X[k,i],X[k,j] = X[k,j],X[k,i]\n",
    "     end\n",
    "     return X\n",
    "end"
   ]
  },
  {
   "cell_type": "code",
   "execution_count": 6,
   "metadata": {
    "collapsed": false
   },
   "outputs": [
    {
     "data": {
      "text/plain": [
       "swaprows (generic function with 1 method)"
      ]
     },
     "execution_count": 6,
     "metadata": {},
     "output_type": "execute_result"
    }
   ],
   "source": [
    "function swaprows(X, i, j)\n",
    "     for k = 1:size(X,2)\n",
    "        X[i,k],X[j,k] = X[j,k],X[i,k]\n",
    "     end\n",
    "     return X\n",
    "end"
   ]
  },
  {
   "cell_type": "code",
   "execution_count": 7,
   "metadata": {
    "collapsed": false
   },
   "outputs": [
    {
     "name": "stderr",
     "output_type": "stream",
     "text": [
      "WARNING: Method definition rref2(Any) in module Main at In[4]:2 overwritten at In[7]:2.\n"
     ]
    },
    {
     "data": {
      "text/plain": [
       "rref2 (generic function with 1 method)"
      ]
     },
     "execution_count": 7,
     "metadata": {},
     "output_type": "execute_result"
    }
   ],
   "source": [
    "function rref2(M)\n",
    "    col = 1                \n",
    "    M = mod(M,2)\n",
    "    for row = 1:size(M,1)\n",
    "        #part 1: ensure pivot row has nonzero lead entry\n",
    "        i = copy(row)\n",
    "        while M[i,col] == 0\n",
    "            i += 1   \n",
    "            if i > size(M,1)\n",
    "                col+=1\n",
    "                if col > size(M,2)\n",
    "                    return M\n",
    "                end\n",
    "                i = copy(row)\n",
    "            end\n",
    "        end        \n",
    "        swaprows(M,i,row)\n",
    "            \n",
    "        #part 2: use pivot row to clear        \n",
    "        for j = row+1:size(M,1)\n",
    "            if M[j,col] != 0\n",
    "                for k = 1:size(M,2)\n",
    "                    M[j,k] = M[j,k]-M[row,k]\n",
    "                end\n",
    "            end\n",
    "        end\n",
    "        \n",
    "        #part 3: reduce mod 2\n",
    "        M = mod(M,2)\n",
    "    end    \n",
    "    return M\n",
    "end"
   ]
  },
  {
   "cell_type": "code",
   "execution_count": 43,
   "metadata": {
    "collapsed": false
   },
   "outputs": [
    {
     "name": "stderr",
     "output_type": "stream",
     "text": [
      "WARNING: Method definition nullspace2(Any) in module Main at In[41]:2 overwritten at In[43]:2.\n"
     ]
    },
    {
     "data": {
      "text/plain": [
       "nullspace2 (generic function with 1 method)"
      ]
     },
     "execution_count": 43,
     "metadata": {},
     "output_type": "execute_result"
    }
   ],
   "source": [
    "function nullspace2(M)\n",
    "    Mx = rref2(vcat(M,eye(Int64,size(M,2)))')    \n",
    "    null = Array(Array{Int64,2},0)\n",
    "\n",
    "    \n",
    "    for k = rank(rref2(M))+1:size(M,2)\n",
    "        push!(null,Mx[k,size(M,1)+1:size(M,2)+size(M,1)]')\n",
    "    end\n",
    "    return null\n",
    "end"
   ]
  },
  {
   "cell_type": "code",
   "execution_count": 51,
   "metadata": {
    "collapsed": false
   },
   "outputs": [
    {
     "data": {
      "text/plain": [
       "4-element Array{Int64,1}:\n",
       " 0\n",
       " 1\n",
       " 1\n",
       " 0"
      ]
     },
     "execution_count": 51,
     "metadata": {},
     "output_type": "execute_result"
    }
   ],
   "source": [
    "Mx = rref2(vcat(M,eye(Int64,size(M,2)))')    \n",
    "\n",
    "Mx[3,size(M,1)+1:size(M,2)+size(M,1)]"
   ]
  },
  {
   "cell_type": "code",
   "execution_count": 58,
   "metadata": {
    "collapsed": false
   },
   "outputs": [
    {
     "name": "stderr",
     "output_type": "stream",
     "text": [
      "WARNING: Method definition nullspace2a(Any) in module Main at In[56]:2 overwritten at In[58]:2.\n"
     ]
    },
    {
     "data": {
      "text/plain": [
       "nullspace2a (generic function with 1 method)"
      ]
     },
     "execution_count": 58,
     "metadata": {},
     "output_type": "execute_result"
    }
   ],
   "source": [
    "function nullspace2a(M)\n",
    "    Mx = rref2(vcat(M,eye(Int64,size(M,2)))')    \n",
    "    null = Array(Int64,size(M,2),0)\n",
    "\n",
    "    \n",
    "    for k = rank(rref2(M))+1:size(M,2)\n",
    "        null = hcat(null,Mx[k,size(M,1)+1:size(M,2)+size(M,1)])\n",
    "    end\n",
    "    return null\n",
    "end"
   ]
  },
  {
   "cell_type": "code",
   "execution_count": 64,
   "metadata": {
    "collapsed": false
   },
   "outputs": [
    {
     "data": {
      "text/plain": [
       "6×4 Array{Int64,2}:\n",
       " 1  0  0  0\n",
       " 0  1  0  0\n",
       " 0  0  1  0\n",
       " 0  1  0  0\n",
       " 0  0  0  1\n",
       " 0  0  0  0"
      ]
     },
     "execution_count": 64,
     "metadata": {},
     "output_type": "execute_result"
    }
   ],
   "source": [
    "nullspace2a([0 1 0 1 0 0; 0 0 0 0 0 0; 0 0 0 0 0 1; 0 0 0 0 0 1])"
   ]
  },
  {
   "cell_type": "code",
   "execution_count": 63,
   "metadata": {
    "collapsed": false
   },
   "outputs": [
    {
     "data": {
      "text/plain": [
       "6×3 Array{Int64,2}:\n",
       " 1  0  0\n",
       " 0  1  0\n",
       " 0  0  1\n",
       " 0  1  0\n",
       " 0  0  1\n",
       " 0  1  0"
      ]
     },
     "execution_count": 63,
     "metadata": {},
     "output_type": "execute_result"
    }
   ],
   "source": [
    "nullspace2a([0 1 0 1 0 0; 0 0 1 0 1 0; 0 1 0 0 0 1; 0 0 0 1 0 1])"
   ]
  },
  {
   "cell_type": "code",
   "execution_count": 37,
   "metadata": {
    "collapsed": false
   },
   "outputs": [
    {
     "data": {
      "text/plain": [
       "4×2 Array{Int64,2}:\n",
       " 140344574167280  1\n",
       " 140344574118752  1\n",
       " 140344677813120  1\n",
       " 140344574083568  1"
      ]
     },
     "execution_count": 37,
     "metadata": {},
     "output_type": "execute_result"
    }
   ],
   "source": [
    "null = hcat(Array(Int64,size(M,2)),[1; 1 ;1;1])"
   ]
  }
 ],
 "metadata": {
  "kernelspec": {
   "display_name": "Julia 0.5.0",
   "language": "julia",
   "name": "julia-0.5"
  },
  "language_info": {
   "file_extension": ".jl",
   "mimetype": "application/julia",
   "name": "julia",
   "version": "0.5.0"
  }
 },
 "nbformat": 4,
 "nbformat_minor": 1
}
