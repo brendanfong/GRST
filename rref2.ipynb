{
 "cells": [
  {
   "cell_type": "markdown",
   "metadata": {},
   "source": [
    "# Linear Algebra over $F_2$\n",
    "\n",
    "This notebook contains the main functions `rref2` and `nullspace2`, which respectively compute the reduced row echelon form and a basis for the kernel of a matrix over $F_2$. \n",
    "\n",
    "It also contains auxiliary functions `swaprows` and `subtractrow`, and the variant `nullspace2a` of `nullspace` which returns the basis as a list of vectors, rather than as an array."
   ]
  },
  {
   "cell_type": "markdown",
   "metadata": {},
   "source": [
    "---\n",
    "## Macros\n",
    "\n",
    "`swaprows` swaps rows $i$ and $j$ of a matrix $M$."
   ]
  },
  {
   "cell_type": "code",
   "execution_count": 1,
   "metadata": {
    "collapsed": false
   },
   "outputs": [
    {
     "data": {
      "text/plain": [
       "swaprows (generic function with 1 method)"
      ]
     },
     "execution_count": 1,
     "metadata": {},
     "output_type": "execute_result"
    }
   ],
   "source": [
    "function swaprows(M, i, j)\n",
    "     for k = 1:size(X,2)\n",
    "        M[i,k],M[j,k] = M[j,k],M[i,k]\n",
    "     end\n",
    "     return M\n",
    "end"
   ]
  },
  {
   "cell_type": "markdown",
   "metadata": {},
   "source": [
    "`subtractrow` subtracts row $j$ from row $i$ of a matrix $M$."
   ]
  },
  {
   "cell_type": "code",
   "execution_count": 2,
   "metadata": {
    "collapsed": false
   },
   "outputs": [
    {
     "data": {
      "text/plain": [
       "subtractrow (generic function with 1 method)"
      ]
     },
     "execution_count": 2,
     "metadata": {},
     "output_type": "execute_result"
    }
   ],
   "source": [
    "function subtractrow(M,i,j)                \n",
    "    for k = 1:size(M,2)\n",
    "        M[i,k] = M[i,k]-M[j,k]\n",
    "    end\n",
    "    return M\n",
    "end"
   ]
  },
  {
   "cell_type": "markdown",
   "metadata": {},
   "source": [
    "---\n",
    "## Row reducing\n",
    "\n",
    "Next we define `rref2`, which computes the reduced row echelon form a matrix over $F_2$. It does so essentially by Gaussian elimination: we look for a pivot row, clear out the column of the pivot, etc."
   ]
  },
  {
   "cell_type": "code",
   "execution_count": 3,
   "metadata": {
    "collapsed": false
   },
   "outputs": [
    {
     "data": {
      "text/plain": [
       "rref2 (generic function with 1 method)"
      ]
     },
     "execution_count": 3,
     "metadata": {},
     "output_type": "execute_result"
    }
   ],
   "source": [
    "function rref2(M)\n",
    "    col = 1                \n",
    "    M = mod(M,2)\n",
    "    for row = 1:size(M,1)\n",
    "        #part 1: ensure pivot row has nonzero lead entry\n",
    "        i = copy(row)\n",
    "        while M[i,col] == 0 #check for leading zero\n",
    "            i += 1   \n",
    "            if i > size(M,1)\n",
    "                col+=1\n",
    "                if col > size(M,2)\n",
    "                    return M\n",
    "                end\n",
    "                i = copy(row)\n",
    "            end\n",
    "        end        \n",
    "        swaprows(M,i,row)\n",
    "            \n",
    "        #part 2: use pivot row to clear        \n",
    "        for j = row+1:size(M,1)\n",
    "            if M[j,col] != 0\n",
    "                substractrow(M,j,row)\n",
    "            end\n",
    "        end\n",
    "        \n",
    "        #part 3: reduce mod 2\n",
    "        M = mod(M,2)\n",
    "    end    \n",
    "    return M\n",
    "end"
   ]
  },
  {
   "cell_type": "markdown",
   "metadata": {},
   "source": [
    "---\n",
    "## Nullspaces\n",
    "\n",
    "`nullspace2` computes a basis for the kernel of a matrix $M$ over $F_2$. It does so by vertically augmenting $M$ with an identity matrix, then putting the augmented matrix $Mx$ into reduced column echelon form, before taking the lower part of the columns with upper part zero.\n",
    "\n",
    "`nullspace2` returns the basis in an array, `nullspace2a` returns the basis as a list of vectors."
   ]
  },
  {
   "cell_type": "code",
   "execution_count": 4,
   "metadata": {
    "collapsed": false
   },
   "outputs": [
    {
     "data": {
      "text/plain": [
       "nullspace2 (generic function with 1 method)"
      ]
     },
     "execution_count": 4,
     "metadata": {},
     "output_type": "execute_result"
    }
   ],
   "source": [
    "function nullspace2(M)\n",
    "    Mx = rref2(vcat(M,eye(Int64,size(M,2)))')    \n",
    "    null = Array(Int64,size(M,2),0)\n",
    "\n",
    "    \n",
    "    for k = rank(rref2(M))+1:size(M,2)\n",
    "        null = hcat(null,Mx[k,size(M,1)+1:size(M,2)+size(M,1)])\n",
    "    end\n",
    "    return null\n",
    "end"
   ]
  },
  {
   "cell_type": "code",
   "execution_count": 5,
   "metadata": {
    "collapsed": false
   },
   "outputs": [
    {
     "data": {
      "text/plain": [
       "nullspace2a (generic function with 1 method)"
      ]
     },
     "execution_count": 5,
     "metadata": {},
     "output_type": "execute_result"
    }
   ],
   "source": [
    "function nullspace2a(M)\n",
    "    Mx = rref2(vcat(M,eye(Int64,size(M,2)))')    \n",
    "    null = Array(Array{Int64,2},0)\n",
    "\n",
    "    \n",
    "    for k = rank(rref2(M))+1:size(M,2)\n",
    "        push!(null,Mx[k,size(M,1)+1:size(M,2)+size(M,1)]')\n",
    "    end\n",
    "    return null\n",
    "end"
   ]
  }
 ],
 "metadata": {
  "kernelspec": {
   "display_name": "Julia 0.5.0",
   "language": "julia",
   "name": "julia-0.5"
  },
  "language_info": {
   "file_extension": ".jl",
   "mimetype": "application/julia",
   "name": "julia",
   "version": "0.5.0"
  }
 },
 "nbformat": 4,
 "nbformat_minor": 1
}
