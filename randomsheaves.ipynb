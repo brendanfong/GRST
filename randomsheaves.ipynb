{
 "cells": [
  {
   "cell_type": "markdown",
   "metadata": {},
   "source": [
    "# Generating Random 0-1 Sheaves\n",
    "This notebook defines `randomsheaf(n)`, which generates a random 0-1 sheaf on an $n$-simplex.\n",
    "\n",
    "---"
   ]
  },
  {
   "cell_type": "code",
   "execution_count": 167,
   "metadata": {
    "collapsed": false
   },
   "outputs": [
    {
     "data": {
      "text/html": [
       "<script src=\"/opt/julia_packages/.julia/v0.5/Plots/src/backends/../../deps/plotly-latest.min.js\"></script>    <div id=\"af680f09-e166-46d9-8b95-06b045d4566e\" style=\"width:600px;height:400px;\"></div>\n",
       "    <script>\n",
       "    PLOT = document.getElementById('af680f09-e166-46d9-8b95-06b045d4566e');\n",
       "    Plotly.plot(PLOT, [{\"yaxis\":\"y\",\"y\":[0,5,6,2,2,1],\"showlegend\":true,\"name\":\"y1\",\"type\":\"scatter\",\"xaxis\":\"x\",\"line\":{\"width\":1,\"dash\":\"solid\",\"color\":\"rgba(0, 154, 250, 1.000)\",\"shape\":\"linear\"},\"x\":[1,2,3,4,5,6],\"mode\":\"lines\"}], {\"yaxis\":{\"type\":\"-\",\"titlefont\":{\"size\":15,\"color\":\"rgba(0, 0, 0, 1.000)\",\"family\":\"sans-serif\"},\"title\":\"\",\"tickfont\":{\"size\":11,\"color\":\"rgba(0, 0, 0, 1.000)\",\"family\":\"sans-serif\"},\"ticks\":\"inside\",\"range\":[0.0,8.0],\"tickmode\":\"array\",\"showgrid\":true,\"tickvals\":[0.0,1.0,2.0,3.0,4.0,5.0,6.0,7.0,8.0],\"domain\":[0.03762029746281716,0.9415463692038496],\"ticktext\":[\"0\",\"1\",\"2\",\"3\",\"4\",\"5\",\"6\",\"7\",\"8\"],\"tickangle\":0,\"zeroline\":false,\"linecolor\":\"rgba(0, 0, 0, 1.000)\",\"tickcolor\":\"rgba(0, 0, 0, 1.000)\",\"anchor\":\"x\"},\"annotations\":[{\"text\":\"Betti Numbers\",\"y\":1.0,\"xref\":\"paper\",\"font\":{\"size\":20,\"color\":\"rgba(0, 0, 0, 1.000)\",\"family\":\"sans-serif\"},\"xanchor\":\"center\",\"x\":0.5074074074074074,\"yref\":\"paper\",\"showarrow\":false,\"yanchor\":\"top\",\"rotation\":-0.0}],\"width\":600,\"plot_bgcolor\":\"rgba(255, 255, 255, 1.000)\",\"showlegend\":true,\"legend\":{\"bgcolor\":\"rgba(255, 255, 255, 1.000)\",\"y\":1.0,\"font\":{\"size\":11,\"color\":\"rgba(0, 0, 0, 1.000)\",\"family\":\"sans-serif\"},\"bordercolor\":\"rgba(0, 0, 0, 1.000)\",\"x\":1.0},\"xaxis\":{\"type\":\"-\",\"titlefont\":{\"size\":15,\"color\":\"rgba(0, 0, 0, 1.000)\",\"family\":\"sans-serif\"},\"title\":\"\",\"tickfont\":{\"size\":11,\"color\":\"rgba(0, 0, 0, 1.000)\",\"family\":\"sans-serif\"},\"ticks\":\"inside\",\"range\":[1.0,6.0],\"tickmode\":\"array\",\"showgrid\":true,\"tickvals\":[1.0,2.0,3.0,4.0,5.0,6.0],\"domain\":[0.02137649460484106,0.9934383202099737],\"ticktext\":[\"1\",\"2\",\"3\",\"4\",\"5\",\"6\"],\"tickangle\":0,\"zeroline\":false,\"linecolor\":\"rgba(0, 0, 0, 1.000)\",\"tickcolor\":\"rgba(0, 0, 0, 1.000)\",\"anchor\":\"y\"},\"paper_bgcolor\":\"rgba(255, 255, 255, 1.000)\",\"height\":400,\"margin\":{\"r\":0,\"l\":0,\"b\":0,\"t\":20}});\n",
       "    </script>\n"
      ]
     },
     "execution_count": 167,
     "metadata": {},
     "output_type": "execute_result"
    }
   ],
   "source": [
    "Plots.plot(betti2(randomsheaf(5)),title=\"Betti Numbers\",xlims=(1,6),yticks = 0:9, ylims=(0,8))"
   ]
  },
  {
   "cell_type": "markdown",
   "metadata": {},
   "source": [
    "---\n",
    "## Packages and macros\n",
    "\n",
    "Next, we call the necessary packages. `Iterators` lets us deal with subsets."
   ]
  },
  {
   "cell_type": "code",
   "execution_count": 2,
   "metadata": {
    "collapsed": true
   },
   "outputs": [],
   "source": [
    "using Iterators"
   ]
  },
  {
   "cell_type": "markdown",
   "metadata": {},
   "source": [
    "`issubset` takes two sets and checks whether the first is a subset of the second. We curry this function so we can apply it to a list"
   ]
  },
  {
   "cell_type": "code",
   "execution_count": 3,
   "metadata": {
    "collapsed": false
   },
   "outputs": [
    {
     "data": {
      "text/plain": [
       "issubsetcurry (generic function with 1 method)"
      ]
     },
     "execution_count": 3,
     "metadata": {},
     "output_type": "execute_result"
    }
   ],
   "source": [
    "function issubsetcurry(x)\n",
    "    newfunction = function (y) return issubset(x,y) end\n",
    "    return newfunction\n",
    "end"
   ]
  },
  {
   "cell_type": "markdown",
   "metadata": {},
   "source": [
    "`extract1cofaces` gets the columns of the boundary operator that represent cofaces of the cell $A=x$, where $x$ is a subset of $\\{1,\\dots,dim+1\\}$. "
   ]
  },
  {
   "cell_type": "code",
   "execution_count": 4,
   "metadata": {
    "collapsed": false,
    "scrolled": true
   },
   "outputs": [
    {
     "data": {
      "text/plain": [
       "extract1cofaces (generic function with 1 method)"
      ]
     },
     "execution_count": 4,
     "metadata": {},
     "output_type": "execute_result"
    }
   ],
   "source": [
    "function extract1cofaces(x,dim)\n",
    "    return map(issubsetcurry(x),collect(subsets(collect(1:dim),length(x)+1)))\n",
    "end"
   ]
  },
  {
   "cell_type": "markdown",
   "metadata": {},
   "source": [
    "---\n",
    "## Linear algebra over $F_2$\n",
    "\n",
    "We copy in the necessary functions from `rref2`."
   ]
  },
  {
   "cell_type": "code",
   "execution_count": 5,
   "metadata": {
    "collapsed": false
   },
   "outputs": [
    {
     "data": {
      "text/plain": [
       "swaprows (generic function with 1 method)"
      ]
     },
     "execution_count": 5,
     "metadata": {},
     "output_type": "execute_result"
    }
   ],
   "source": [
    "function swaprows(X, i, j)\n",
    "     for k = 1:size(X,2)\n",
    "        X[i,k],X[j,k] = X[j,k],X[i,k]\n",
    "     end\n",
    "     return X\n",
    "end"
   ]
  },
  {
   "cell_type": "code",
   "execution_count": 6,
   "metadata": {
    "collapsed": false
   },
   "outputs": [
    {
     "data": {
      "text/plain": [
       "rref2 (generic function with 1 method)"
      ]
     },
     "execution_count": 6,
     "metadata": {},
     "output_type": "execute_result"
    }
   ],
   "source": [
    "function rref2(M)\n",
    "    col = 1                \n",
    "    M = mod(M,2)\n",
    "    for row = 1:size(M,1)\n",
    "        #part 1: ensure pivot row has nonzero lead entry\n",
    "        i = copy(row)\n",
    "        while M[i,col] == 0\n",
    "            i += 1   \n",
    "            if i > size(M,1)\n",
    "                col+=1\n",
    "                if col > size(M,2)\n",
    "                    return M\n",
    "                end\n",
    "                i = copy(row)\n",
    "            end\n",
    "        end        \n",
    "        swaprows(M,i,row)\n",
    "            \n",
    "        #part 2: use pivot row to clear        \n",
    "        for j = row+1:size(M,1)\n",
    "            if M[j,col] != 0\n",
    "                for k = 1:size(M,2)\n",
    "                    M[j,k] = M[j,k]-M[row,k]\n",
    "                end\n",
    "            end\n",
    "        end\n",
    "        \n",
    "        #part 3: reduce mod 2\n",
    "        M = mod(M,2)\n",
    "    end    \n",
    "    return M\n",
    "end"
   ]
  },
  {
   "cell_type": "code",
   "execution_count": 7,
   "metadata": {
    "collapsed": false
   },
   "outputs": [
    {
     "data": {
      "text/plain": [
       "nullspace2 (generic function with 1 method)"
      ]
     },
     "execution_count": 7,
     "metadata": {},
     "output_type": "execute_result"
    }
   ],
   "source": [
    "function nullspace2(M)\n",
    "    Mx = rref2(vcat(M,eye(Int64,size(M,2)))')    \n",
    "    null = Array(Int64,size(M,2),0)\n",
    "\n",
    "    \n",
    "    for k = rank(rref2(M))+1:size(M,2)\n",
    "        null = hcat(null,Mx[k,size(M,1)+1:size(M,2)+size(M,1)])\n",
    "    end\n",
    "    return null\n",
    "end"
   ]
  },
  {
   "cell_type": "markdown",
   "metadata": {},
   "source": [
    "---\n",
    "## Betti numbers\n",
    "\n",
    "`betti2` takes a chain complex over $F_2$ and returns a list of its Betti numbers. Note `B[i]` is the $i-1$th Betti number. "
   ]
  },
  {
   "cell_type": "code",
   "execution_count": 8,
   "metadata": {
    "collapsed": false
   },
   "outputs": [
    {
     "data": {
      "text/plain": [
       "betti2 (generic function with 1 method)"
      ]
     },
     "execution_count": 8,
     "metadata": {},
     "output_type": "execute_result"
    }
   ],
   "source": [
    "function betti2(D::Array{Array{Int64,2},1})\n",
    "    B = Array(Int64,0)\n",
    "    push!(B,size(nullspace2(D[1]),2)) # zeroth cohomology\n",
    "    for i = 1:length(D)-1 \n",
    "        push!(B,size(nullspace2(D[i+1]),2)+size(nullspace2(D[i]),2)-size(D[i],2))\n",
    "    end\n",
    "    push!(B,size(D[end],2)-size(nullspace2(D[end]),2)) # nth cohomology\n",
    "    return B\n",
    "end"
   ]
  },
  {
   "cell_type": "markdown",
   "metadata": {},
   "source": [
    "---\n",
    "## Random Sheaves\n",
    "\n",
    "This function generates a random 0-1 sheaf of dimension $n$, returning it as the chain complex of boundary operators.\n",
    "\n",
    "To generate each row of a boundary operator, we compute the kernel of a restriction of the boundary operator in the dimension above to a suitable subspace of the domain. This involves knocking out the right columns. Here is an operator that, given a dimension $k$, a matrix $D_k$ of attaching maps from dimension $k$ to $k+1$, and a $k-1$-dimensional cell $A$, returns a basis for maps from $A$ to the $k$-dimensional cells that satisfy the required commutativity condition. This basis is a basis for the restriction of "
   ]
  },
  {
   "cell_type": "code",
   "execution_count": 9,
   "metadata": {
    "collapsed": false
   },
   "outputs": [
    {
     "data": {
      "text/plain": [
       "randomsheaf (generic function with 1 method)"
      ]
     },
     "execution_count": 9,
     "metadata": {},
     "output_type": "execute_result"
    }
   ],
   "source": [
    "function randomsheaf(dim)\n",
    "    D = Array(Array{Int64,2},0) \n",
    "    D_k = [0] \n",
    "    for k = dim:-1:1 # we construct the sheaf layer by layer, from the top dimension downwards\n",
    "        D_kplus1 = copy(D_k) # takes a copy of the (k+1)th boundary operator\n",
    "        D_k = Array(Int64,binomial(dim+1,k+1),0)\n",
    "        \n",
    "        for j in collect(subsets(collect(1:dim+1),k)) # j ranges over k-cells (these are subsets of dim+1 of size k+1)\n",
    "            Aux = copy(D_kplus1[:,extract1cofaces(j,dim+1)]) # Aux takes the columns of the (k+1)th boundary operator corresponding to the cofaces of j  \n",
    "            M = nullspace2(Aux) # find a basis for the kernel of restricted operator\n",
    "            V_j = vec(M*rand(0:1,1,size(M,2))') # take a random element of the kernel -- we've now chosen our maps out of j\n",
    "            for i in find(map(!,extract1cofaces(j,dim+1))) # turns our chosen maps into the jth column of the kth boundary operator\n",
    "                insert!(V_j,i,0)\n",
    "            end\n",
    "            D_k = [D_k V_j] # adds this jth column in\n",
    "        end\n",
    "        unshift!(D,D_k) # inserts our new D_k into the vector of boundary operators\n",
    "    end\n",
    "    return D\n",
    "end"
   ]
  }
 ],
 "metadata": {
  "kernelspec": {
   "display_name": "Julia 0.5.0",
   "language": "julia",
   "name": "julia-0.5"
  },
  "language_info": {
   "file_extension": ".jl",
   "mimetype": "application/julia",
   "name": "julia",
   "version": "0.5.0"
  }
 },
 "nbformat": 4,
 "nbformat_minor": 1
}
